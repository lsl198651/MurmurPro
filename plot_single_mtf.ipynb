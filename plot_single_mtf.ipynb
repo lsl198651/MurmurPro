{
  "cells": [
    {
      "cell_type": "code",
      "execution_count": null,
      "metadata": {
        "collapsed": false
      },
      "outputs": [],
      "source": [
        "%matplotlib inline"
      ]
    },
    {
      "cell_type": "markdown",
      "metadata": {},
      "source": [
        "\n# Single Markov transition field\n\nA Markov transition field is an image obtained from a time series, representing\na field of transition probabilities for a discretized time series.\nDifferent strategies can be used to bin time series.\nIt is implemented as :class:`pyts.image.MarkovTransitionField`.\n\nIn this example, the considered time series is the sequence of the sine\nfunction values for 1000 equally-spaced points in the interval\n$[0, 4\\pi]$.\nOne can see on the Markov transition field that the sine function is periodic\nwith period $2\\pi$ and smooth (only neighbor bins have a positive\ntransition probability).\n\nSince the API is designed for machine learning, the\n:meth:`~pyts.image.MarkovTransitionField.transform` method of the\n:class:`pyts.image.MarkovTransitionField` class expects a data set of time\nseries as input, so the time series is transformed into a data set with a\nsingle time series (``X = np.array([x])``) and the first element of the data\nset of Gramian angular fields is retrieved (``ax_mtf.imshow(X_mtf[0], ...``).\n"
      ]
    },
    {
      "cell_type": "code",
      "execution_count": null,
      "metadata": {
        "collapsed": false
      },
      "outputs": [],
      "source": [
        "# Author: Johann Faouzi <johann.faouzi@gmail.com>\n# License: BSD-3-Clause\n\nimport numpy as np\nimport matplotlib.pyplot as plt\nfrom pyts.image import MarkovTransitionField\n\n\n# Create a toy time series using the sine function\ntime_points = np.linspace(0, 4 * np.pi, 1000)\nx = np.sin(time_points)\nX = np.array([x])\n\n# Compute Gramian angular fields\nmtf = MarkovTransitionField(n_bins=8)\nX_mtf = mtf.fit_transform(X)\n\n# Plot the time series and its Markov transition field\nwidth_ratios = (2, 7, 0.4)\nheight_ratios = (2, 7)\nwidth = 6\nheight = width * sum(height_ratios) / sum(width_ratios)\nfig = plt.figure(figsize=(width, height))\ngs = fig.add_gridspec(2, 3,  width_ratios=width_ratios,\n                      height_ratios=height_ratios,\n                      left=0.1, right=0.9, bottom=0.1, top=0.9,\n                      wspace=0.05, hspace=0.05)\n\n# Define the ticks and their labels for both axes\ntime_ticks = np.linspace(0, 4 * np.pi, 9)\ntime_ticklabels = [r'$0$', r'$\\frac{\\pi}{2}$', r'$\\pi$',\n                   r'$\\frac{3\\pi}{2}$', r'$2\\pi$', r'$\\frac{5\\pi}{2}$',\n                   r'$3\\pi$', r'$\\frac{7\\pi}{2}$', r'$4\\pi$']\nvalue_ticks = [-1, 0, 1]\nreversed_value_ticks = value_ticks[::-1]\n\n# Plot the time series on the left with inverted axes\nax_left = fig.add_subplot(gs[1, 0])\nax_left.plot(x, time_points)\nax_left.set_xticks(reversed_value_ticks)\nax_left.set_xticklabels(reversed_value_ticks, rotation=90)\nax_left.set_yticks(time_ticks)\nax_left.set_yticklabels(time_ticklabels, rotation=90)\nax_left.set_ylim((0, 4 * np.pi))\nax_left.invert_xaxis()\n\n# Plot the time series on the top\nax_top = fig.add_subplot(gs[0, 1])\nax_top.plot(time_points, x)\nax_top.set_xticks(time_ticks)\nax_top.set_xticklabels(time_ticklabels)\nax_top.set_yticks(value_ticks)\nax_top.set_yticklabels(value_ticks)\nax_top.xaxis.tick_top()\nax_top.set_xlim((0, 4 * np.pi))\nax_top.set_yticklabels(value_ticks)\n\n# Plot the Gramian angular fields on the bottom right\nax_mtf = fig.add_subplot(gs[1, 1])\nim = ax_mtf.imshow(X_mtf[0], cmap='rainbow', origin='lower', vmin=0., vmax=1.,\n                   extent=[0, 4 * np.pi, 0, 4 * np.pi])\nax_mtf.set_xticks([])\nax_mtf.set_yticks([])\nax_mtf.set_title('Markov Transition Field', y=-0.09)\n\n# Add colorbar\nax_cbar = fig.add_subplot(gs[1, 2])\nfig.colorbar(im, cax=ax_cbar)\n\nplt.show()"
      ]
    }
  ],
  "metadata": {
    "kernelspec": {
      "display_name": "Python 3",
      "language": "python",
      "name": "python3"
    },
    "language_info": {
      "codemirror_mode": {
        "name": "ipython",
        "version": 3
      },
      "file_extension": ".py",
      "mimetype": "text/x-python",
      "name": "python",
      "nbconvert_exporter": "python",
      "pygments_lexer": "ipython3",
      "version": "3.8.6"
    }
  },
  "nbformat": 4,
  "nbformat_minor": 0
}