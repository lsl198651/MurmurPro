{
  "cells": [
    {
      "cell_type": "code",
      "execution_count": 1,
      "metadata": {
        "collapsed": false
      },
      "outputs": [],
      "source": [
        "%matplotlib inline"
      ]
    },
    {
      "cell_type": "markdown",
      "metadata": {},
      "source": [
        "\n",
        "# Single Gramian angular field\n",
        "\n",
        "A Gramian angular field is an image obtained from a time series, representing\n",
        "some kind of temporal correlation between each pair of values from the time\n",
        "series. Two methods are available: Gramian angular summation field and Gramian\n",
        "angular difference field.\n",
        "It is implemented as :class:`pyts.image.GramianAngularField`.\n",
        "\n",
        "In this example, the considered time series is the sequence of the sine\n",
        "function values for 1000 equally-spaced points in the interval\n",
        "$[0, 4\\pi]$.\n",
        "Both the corresponding Gramnian angular summation and difference fields are\n",
        "plotted.\n",
        "\n",
        "Since the API is designed for machine learning, the\n",
        ":meth:`~pyts.image.GramianAngularField.transform` method of the\n",
        ":class:`pyts.image.GramianAngularField` class expects a data set of time series\n",
        "as input, so the time series is transformed into a data set with a single time\n",
        "series (``X = np.array([x])``) and the first element of the data set of\n",
        "Gramian angular fields is retrieved (``ax_gasf.imshow(X_gasf[0], ...``).\n"
      ]
    },
    {
      "cell_type": "code",
      "execution_count": 2,
      "metadata": {
        "collapsed": false
      },
      "outputs": [
        {
          "ename": "ModuleNotFoundError",
          "evalue": "No module named 'pyts'",
          "output_type": "error",
          "traceback": [
            "\u001b[1;31m---------------------------------------------------------------------------\u001b[0m",
            "\u001b[1;31mModuleNotFoundError\u001b[0m                       Traceback (most recent call last)",
            "Cell \u001b[1;32mIn[2], line 6\u001b[0m\n\u001b[0;32m      4\u001b[0m \u001b[38;5;28;01mimport\u001b[39;00m \u001b[38;5;21;01mnumpy\u001b[39;00m \u001b[38;5;28;01mas\u001b[39;00m \u001b[38;5;21;01mnp\u001b[39;00m\n\u001b[0;32m      5\u001b[0m \u001b[38;5;28;01mimport\u001b[39;00m \u001b[38;5;21;01mmatplotlib\u001b[39;00m\u001b[38;5;21;01m.\u001b[39;00m\u001b[38;5;21;01mpyplot\u001b[39;00m \u001b[38;5;28;01mas\u001b[39;00m \u001b[38;5;21;01mplt\u001b[39;00m\n\u001b[1;32m----> 6\u001b[0m \u001b[38;5;28;01mfrom\u001b[39;00m \u001b[38;5;21;01mpyts\u001b[39;00m\u001b[38;5;21;01m.\u001b[39;00m\u001b[38;5;21;01mimage\u001b[39;00m \u001b[38;5;28;01mimport\u001b[39;00m GramianAngularField\n\u001b[0;32m      9\u001b[0m \u001b[38;5;66;03m# Create a toy time series using the sine function\u001b[39;00m\n\u001b[0;32m     10\u001b[0m time_points \u001b[38;5;241m=\u001b[39m np\u001b[38;5;241m.\u001b[39mlinspace(\u001b[38;5;241m0\u001b[39m, \u001b[38;5;241m4\u001b[39m \u001b[38;5;241m*\u001b[39m np\u001b[38;5;241m.\u001b[39mpi, \u001b[38;5;241m1000\u001b[39m)\n",
            "\u001b[1;31mModuleNotFoundError\u001b[0m: No module named 'pyts'"
          ]
        }
      ],
      "source": [
        "# Author: Johann Faouzi <johann.faouzi@gmail.com>\n",
        "# License: BSD-3-Clause\n",
        "\n",
        "import numpy as np\n",
        "import matplotlib.pyplot as plt\n",
        "from pyts.image import GramianAngularField\n",
        "\n",
        "\n",
        "# Create a toy time series using the sine function\n",
        "time_points = np.linspace(0, 4 * np.pi, 1000)\n",
        "x = np.sin(time_points)\n",
        "X = np.array([x])\n",
        "\n",
        "# Compute Gramian angular fields\n",
        "gasf = GramianAngularField(method='summation')\n",
        "X_gasf = gasf.fit_transform(X)\n",
        "\n",
        "gadf = GramianAngularField(method='difference')\n",
        "X_gadf = gadf.fit_transform(X)\n",
        "\n",
        "# Plot the time series and its recurrence plot\n",
        "width_ratios = (2, 7, 7, 0.4)\n",
        "height_ratios = (2, 7)\n",
        "width = 10\n",
        "height = width * sum(height_ratios) / sum(width_ratios)\n",
        "fig = plt.figure(figsize=(width, height))\n",
        "gs = fig.add_gridspec(2, 4,  width_ratios=width_ratios,\n",
        "                      height_ratios=height_ratios,\n",
        "                      left=0.1, right=0.9, bottom=0.1, top=0.9,\n",
        "                      wspace=0.1, hspace=0.1)\n",
        "\n",
        "# Define the ticks and their labels for both axes\n",
        "time_ticks = np.linspace(0, 4 * np.pi, 9)\n",
        "time_ticklabels = [r'$0$', r'$\\frac{\\pi}{2}$', r'$\\pi$',\n",
        "                   r'$\\frac{3\\pi}{2}$', r'$2\\pi$', r'$\\frac{5\\pi}{2}$',\n",
        "                   r'$3\\pi$', r'$\\frac{7\\pi}{2}$', r'$4\\pi$']\n",
        "value_ticks = [-1, 0, 1]\n",
        "reversed_value_ticks = value_ticks[::-1]\n",
        "\n",
        "# Plot the time series on the left with inverted axes\n",
        "ax_left = fig.add_subplot(gs[1, 0])\n",
        "ax_left.plot(x, time_points)\n",
        "ax_left.set_xticks(reversed_value_ticks)\n",
        "ax_left.set_xticklabels(reversed_value_ticks, rotation=90)\n",
        "ax_left.set_yticks(time_ticks)\n",
        "ax_left.set_yticklabels(time_ticklabels, rotation=90)\n",
        "ax_left.set_ylim((0, 4 * np.pi))\n",
        "ax_left.invert_xaxis()\n",
        "\n",
        "# Plot the time series on the top\n",
        "ax_top1 = fig.add_subplot(gs[0, 1])\n",
        "ax_top2 = fig.add_subplot(gs[0, 2])\n",
        "for ax in (ax_top1, ax_top2):\n",
        "    ax.plot(time_points, x)\n",
        "    ax.set_xticks(time_ticks)\n",
        "    ax.set_xticklabels(time_ticklabels)\n",
        "    ax.set_yticks(value_ticks)\n",
        "    ax.xaxis.tick_top()\n",
        "    ax.set_xlim((0, 4 * np.pi))\n",
        "ax_top1.set_yticklabels(value_ticks)\n",
        "ax_top2.set_yticklabels([])\n",
        "\n",
        "# Plot the Gramian angular fields on the bottom right\n",
        "ax_gasf = fig.add_subplot(gs[1, 1])\n",
        "ax_gasf.imshow(X_gasf[0], cmap='rainbow', origin='lower',\n",
        "               extent=[0, 4 * np.pi, 0, 4 * np.pi])\n",
        "ax_gasf.set_xticks([])\n",
        "ax_gasf.set_yticks([])\n",
        "ax_gasf.set_title('Gramian Angular Summation Field', y=-0.09)\n",
        "\n",
        "ax_gadf = fig.add_subplot(gs[1, 2])\n",
        "im = ax_gadf.imshow(X_gadf[0], cmap='rainbow', origin='lower',\n",
        "                    extent=[0, 4 * np.pi, 0, 4 * np.pi])\n",
        "ax_gadf.set_xticks([])\n",
        "ax_gadf.set_yticks([])\n",
        "ax_gadf.set_title('Gramian Angular Difference Field', y=-0.09)\n",
        "\n",
        "# Add colorbar\n",
        "ax_cbar = fig.add_subplot(gs[1, 3])\n",
        "fig.colorbar(im, cax=ax_cbar)\n",
        "\n",
        "plt.show()"
      ]
    }
  ],
  "metadata": {
    "kernelspec": {
      "display_name": "Python 3",
      "language": "python",
      "name": "python3"
    },
    "language_info": {
      "codemirror_mode": {
        "name": "ipython",
        "version": 3
      },
      "file_extension": ".py",
      "mimetype": "text/x-python",
      "name": "python",
      "nbconvert_exporter": "python",
      "pygments_lexer": "ipython3",
      "version": "3.9.16"
    }
  },
  "nbformat": 4,
  "nbformat_minor": 0
}
